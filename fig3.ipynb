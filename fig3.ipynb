{
 "cells": [
  {
   "cell_type": "code",
   "execution_count": null,
   "id": "6c2bf513",
   "metadata": {},
   "outputs": [],
   "source": [
    "import numpy as np\n",
    "import xarray as xr\n",
    "from scipy.interpolate import interp1d\n",
    "import pandas as pd\n",
    "import function\n",
    "import matplotlib.pyplot as plt\n",
    "from scipy.integrate import quad\n",
    "import cartopy.crs as ccrs\n",
    "from cartopy.feature import NaturalEarthFeature\n",
    "file='E:\\\\data\\\\oras5\\\\somali-oras5\\\\no_cycle_MLD_every_term_climate.nc';ds0 = xr.open_dataset(file)\n",
    "ds = ds0['mlt'].sel(latitude=slice(0,20),longitude=slice(35,65))\n",
    "ds=ds+function.make_mask3D(ds,5/(ds.latitude.data[1]-ds.latitude.data[0]),ds)\n",
    "oras_mlt=function.weight_lon(ds,ds,'mlt','jet')\n",
    "\n",
    "file=\"E:\\data\\oras5\\somali-oras5\\oras5_100m_40-65E_ot&rho&u&v_climate.nc\";ds0 = xr.open_dataset(file);ds= ds0.ptemp[:,0,:,:]\n",
    "ds = ds.sel(latitude=slice(0,20),longitude=slice(35,65))\n",
    "ds=ds+function.make_mask3D(ds,5/(ds.latitude.data[1]-ds.latitude.data[0]),ds);\n",
    "oras_sst=function.weight_lon(ds,ds,'mlt','jet')\n",
    "\n",
    "file='E:\\\\data\\\\oisst\\\\sst_mon_ltm_1991-2020.nc';ds=xr.open_dataset(file);#ds= list(ds.data_vars.values())[0]\n",
    "ds=ds.sst.rename({'lat': 'latitude','lon': 'longitude'}).sel(latitude=slice(0,20),longitude=slice(40,80))\n",
    "ds=ds.groupby('time.month').mean('time').rename({'month': 'time'})\n",
    "ds=ds+function.make_mask3D(ds,5/(ds.latitude.data[1]-ds.latitude.data[0]),ds);\n",
    "oisst=function.weight_lon(ds,ds,'mlt','jet')\n",
    "\n",
    "from cartopy.mpl.ticker import LongitudeFormatter, LatitudeFormatter\n",
    "fig, axs = plt.subplots(nrows=1, ncols=2, figsize=(12,4),sharey=True, dpi=200,#sharex=True, \n",
    "                        constrained_layout=True)\n",
    "axs[0].set_title('(a)OISST(colors) vs ORAS5 SST(blacklines)')\n",
    "#axs[0].set_xlabel('month')\n",
    "axs[0].set_ylabel('latitude')\n",
    "cf=axs[0].contourf(oisst.time,oisst.latitude,oisst.T,cmap='jet', vmin=23, vmax=30,levels=np.arange(23, 31,0.5))\n",
    "contours =axs[0].contour(oras_sst.time,oras_sst.latitude,oras_sst.T,colors='k',levels=np.arange(23, 31.5, 1),linewidths=0.5,linestyles='-')\n",
    "axs[0].contour(oras_sst.time,oras_sst.latitude,oras_sst.T,colors='k',levels=np.arange(23.5, 31.5, 1),linewidths=0.5,linestyles='-')\n",
    "#plt.xticks(contours,sst.time, ('1','2','3','4','5','6','7','8','9','10','11','12'))\n",
    "axs[0].clabel(contours, inline=True, fontsize=9, fmt='%1.1f') \n",
    "axs[0].set_ylim([0,19.5])\n",
    "\n",
    "axs[1].set_title('(b) ORAS5 MLT(colors) vs ORAS5 SST(blacklines)')\n",
    "#axs[1].set_xlabel('month')\n",
    "#axs[1].set_ylabel('latitude')\n",
    "cf=axs[1].contourf(oras_mlt.time,oras_mlt.latitude,oras_mlt.T,cmap='jet', vmin=23, vmax=30,levels=np.arange(23, 31,0.5))\n",
    "cb=fig.colorbar(cf,orientation='vertical',label='°C')\n",
    "cb.ax.tick_params(length=0)\n",
    "contours =axs[1].contour(oras_sst.time,oras_sst.latitude,oras_sst.T,colors='k',levels=np.arange(23, 31.5, 1),linewidths=0.5,linestyles='-')\n",
    "axs[1].contour(oras_sst.time,oras_sst.latitude,oras_sst.T,colors='k',levels=np.arange(23.5, 31.5, 1),linewidths=0.5,linestyles='-')\n",
    "axs[0].set_xticks([1,2,3,4,5,6,7,8,9,10,11,12]);axs[1].set_xticks([1,2,3,4,5,6,7,8,9,10,11,12]);\n",
    "axs[0].set_xticklabels(['Jan.','Feb.','Mar.','Apr.','May.','Jun.','Jul.','Aug.','Sep.','Oct.','Nov.','Dec.'],)\n",
    "axs[1].set_xticklabels(['Jan.','Feb.','Mar.','Apr.','May.','Jun.','Jul.','Aug.','Sep.','Oct.','Nov.','Dec.'],)\n",
    "axs[1].clabel(contours, inline=True, fontsize=9, fmt='%1.1f') \n",
    "axs[0].yaxis.set_major_formatter(LatitudeFormatter())#axs[1].set_ylim([0.5,19.5])\n",
    "axs[0].minorticks_on()# 启用次刻度\n",
    "axs[0].set_yticks(np.arange(0, 20, 1), minor=True)  # # 设置次刻度的位置\n",
    "axs[0].xaxis.set_minor_formatter(plt.NullFormatter());axs[0].xaxis.set_minor_locator(plt.NullLocator())#\n",
    "axs[0].set_yticks([0,5,10,15]);"
   ]
  }
 ],
 "metadata": {
  "kernelspec": {
   "display_name": "Python 3 (ipykernel)",
   "language": "python",
   "name": "python3"
  },
  "language_info": {
   "codemirror_mode": {
    "name": "ipython",
    "version": 3
   },
   "file_extension": ".py",
   "mimetype": "text/x-python",
   "name": "python",
   "nbconvert_exporter": "python",
   "pygments_lexer": "ipython3",
   "version": "3.11.4"
  }
 },
 "nbformat": 4,
 "nbformat_minor": 5
}
